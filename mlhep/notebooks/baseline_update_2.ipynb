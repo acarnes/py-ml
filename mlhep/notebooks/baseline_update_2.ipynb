{
 "cells": [
  {
   "cell_type": "markdown",
   "metadata": {},
   "source": [
    "## About\n",
    "\n",
    "In this notebook we prepare a simple solution for the [kaggle challenge on higgs.](https://inclass.kaggle.com/c/mlhep-2016-higgs-detection)"
   ]
  },
  {
   "cell_type": "code",
   "execution_count": 1,
   "metadata": {
    "collapsed": true
   },
   "outputs": [],
   "source": [
    "%matplotlib inline"
   ]
  },
  {
   "cell_type": "code",
   "execution_count": 8,
   "metadata": {
    "collapsed": true
   },
   "outputs": [],
   "source": [
    "import matplotlib.pyplot as plt\n",
    "\n",
    "import pandas as pd\n",
    "import numpy as np\n",
    "\n",
    "from sklearn.cross_validation import train_test_split\n",
    "from sklearn.metrics import roc_auc_score"
   ]
  },
  {
   "cell_type": "markdown",
   "metadata": {},
   "source": [
    "### Download data"
   ]
  },
  {
   "cell_type": "code",
   "execution_count": 3,
   "metadata": {
    "collapsed": false
   },
   "outputs": [
    {
     "name": "stdout",
     "output_type": "stream",
     "text": [
      "/bin/sh: line 0: cd: datasets: No such file or directory\n",
      "--2016-06-25 18:31:24--  https://2016.mlhep.yandex.net/data/higgs/public_train_10000.root\n",
      "Resolving 2016.mlhep.yandex.net... 213.180.193.208, 2a02:6b8::1:208\n",
      "Connecting to 2016.mlhep.yandex.net|213.180.193.208|:443... connected.\n",
      "HTTP request sent, awaiting response... 200 OK\n",
      "Length: 932820 (911K) [application/octet-stream]\n",
      "Saving to: “public_train_10000.root”\n",
      "\n",
      "100%[======================================>] 932,820     3.03M/s   in 0.3s    \n",
      "\n",
      "2016-06-25 18:31:25 (3.03 MB/s) - “public_train_10000.root” saved [932820/932820]\n",
      "\n"
     ]
    }
   ],
   "source": [
    "!cd datasets; wget -O public_train_10000.root -nc --no-check-certificate https://2016.mlhep.yandex.net/data/higgs/public_train_10000.root"
   ]
  },
  {
   "cell_type": "code",
   "execution_count": 4,
   "metadata": {
    "collapsed": true
   },
   "outputs": [],
   "source": [
    "# you can download training sample with 100000 available events\n",
    "# uncomment the below row\n",
    "# !cd datasets; wget -O public_train_100000.root -nc --no-check-certificate https://2016.mlhep.yandex.net/data/higgs/public_train_100000.root"
   ]
  },
  {
   "cell_type": "code",
   "execution_count": 4,
   "metadata": {
    "collapsed": false
   },
   "outputs": [
    {
     "name": "stdout",
     "output_type": "stream",
     "text": [
      "/bin/sh: line 0: cd: datasets: No such file or directory\n",
      "--2016-06-25 18:31:29--  https://2016.mlhep.yandex.net/data/higgs/public_test.root\n",
      "Resolving 2016.mlhep.yandex.net... 213.180.193.208, 2a02:6b8::1:208\n",
      "Connecting to 2016.mlhep.yandex.net|213.180.193.208|:443... connected.\n",
      "HTTP request sent, awaiting response... 200 OK\n",
      "Length: 91931408 (88M) [application/octet-stream]\n",
      "Saving to: “public_test.root”\n",
      "\n",
      "100%[======================================>] 91,931,408  32.5M/s   in 2.7s    \n",
      "\n",
      "2016-06-25 18:31:32 (32.5 MB/s) - “public_test.root” saved [91931408/91931408]\n",
      "\n"
     ]
    }
   ],
   "source": [
    "!cd datasets; wget -O public_test.root -nc --no-check-certificate https://2016.mlhep.yandex.net/data/higgs/public_test.root"
   ]
  },
  {
   "cell_type": "markdown",
   "metadata": {},
   "source": [
    "### Read the smallest part of training file and test file"
   ]
  },
  {
   "cell_type": "code",
   "execution_count": 23,
   "metadata": {
    "collapsed": false
   },
   "outputs": [],
   "source": [
    "import pandas as pd\n",
    "df = pd.DataFrame.from_csv(\"/homeappl/home/austyuzh/data/train_small.csv\",)\n",
    "n_features = df.shape[1]-1\n",
    "\n",
    "jet_pt   = ['jet1_pt', 'jet2_pt', 'jet3_pt', 'jet4_pt']\n",
    "jet_eta  = ['jet1_eta', 'jet2_eta', 'jet3_eta', 'jet4_eta']\n",
    "jet_phi  = ['jet1_phi', 'jet2_phi', 'jet3_phi', 'jet4_phi']\n",
    "jet_btag = ['jet1_btag', 'jet2_btag', 'jet3_btag', 'jet4_btag']\n",
    "\n",
    "allvars = [jet_pt, jet_eta, jet_phi, jet_btag]\n",
    "\n",
    "dfa = np.argsort(df[jet_pt])                             #argsort indices\n",
    "dfs = df.copy()                                          #sorted jets dataframe\n",
    "indexer = np.arange(dfs[jet_pt].shape[0])[:,np.newaxis]  #index that help us sort the matrix\n",
    "                                                         #column vector of range 0->n_entries\n",
    "for v in allvars:\n",
    "    dfs[v] = dfs[v].values[indexer, dfa]\n",
    "    \n",
    "df = dfs"
   ]
  },
  {
   "cell_type": "code",
   "execution_count": 24,
   "metadata": {
    "collapsed": false
   },
   "outputs": [
    {
     "data": {
      "text/html": [
       "<div>\n",
       "<table border=\"1\" class=\"dataframe\">\n",
       "  <thead>\n",
       "    <tr style=\"text-align: right;\">\n",
       "      <th></th>\n",
       "      <th>target</th>\n",
       "      <th>lepton_pt</th>\n",
       "      <th>lepton_eta</th>\n",
       "      <th>lepton_phi</th>\n",
       "      <th>mem_pt</th>\n",
       "      <th>mem_phi</th>\n",
       "      <th>jet1_pt</th>\n",
       "      <th>jet1_eta</th>\n",
       "      <th>jet1_phi</th>\n",
       "      <th>jet1_btag</th>\n",
       "      <th>...</th>\n",
       "      <th>jet4_eta</th>\n",
       "      <th>jet4_phi</th>\n",
       "      <th>jet4_btag</th>\n",
       "      <th>m_jj</th>\n",
       "      <th>m_jjj</th>\n",
       "      <th>m_lv</th>\n",
       "      <th>m_jlv</th>\n",
       "      <th>m_bb</th>\n",
       "      <th>m_wbb</th>\n",
       "      <th>m_wwbb</th>\n",
       "    </tr>\n",
       "    <tr>\n",
       "      <th>event_id</th>\n",
       "      <th></th>\n",
       "      <th></th>\n",
       "      <th></th>\n",
       "      <th></th>\n",
       "      <th></th>\n",
       "      <th></th>\n",
       "      <th></th>\n",
       "      <th></th>\n",
       "      <th></th>\n",
       "      <th></th>\n",
       "      <th></th>\n",
       "      <th></th>\n",
       "      <th></th>\n",
       "      <th></th>\n",
       "      <th></th>\n",
       "      <th></th>\n",
       "      <th></th>\n",
       "      <th></th>\n",
       "      <th></th>\n",
       "      <th></th>\n",
       "      <th></th>\n",
       "    </tr>\n",
       "  </thead>\n",
       "  <tbody>\n",
       "    <tr>\n",
       "      <th>1000001</th>\n",
       "      <td>1.0</td>\n",
       "      <td>34.750568</td>\n",
       "      <td>0.787025</td>\n",
       "      <td>1.898891</td>\n",
       "      <td>20.862434</td>\n",
       "      <td>-2.622998</td>\n",
       "      <td>44.814148</td>\n",
       "      <td>-0.168171</td>\n",
       "      <td>2.631595</td>\n",
       "      <td>2.000023</td>\n",
       "      <td>...</td>\n",
       "      <td>0.877472</td>\n",
       "      <td>-0.256736</td>\n",
       "      <td>0.000000</td>\n",
       "      <td>81.724449</td>\n",
       "      <td>189.583145</td>\n",
       "      <td>80.118317</td>\n",
       "      <td>170.086075</td>\n",
       "      <td>91.128204</td>\n",
       "      <td>298.468781</td>\n",
       "      <td>374.685760</td>\n",
       "    </tr>\n",
       "    <tr>\n",
       "      <th>1000002</th>\n",
       "      <td>1.0</td>\n",
       "      <td>54.250927</td>\n",
       "      <td>-1.057915</td>\n",
       "      <td>2.310697</td>\n",
       "      <td>51.167873</td>\n",
       "      <td>2.545749</td>\n",
       "      <td>31.039040</td>\n",
       "      <td>-2.220276</td>\n",
       "      <td>-0.737298</td>\n",
       "      <td>0.000000</td>\n",
       "      <td>...</td>\n",
       "      <td>-1.139118</td>\n",
       "      <td>-1.300325</td>\n",
       "      <td>2.000016</td>\n",
       "      <td>65.837746</td>\n",
       "      <td>201.096756</td>\n",
       "      <td>83.321556</td>\n",
       "      <td>208.039688</td>\n",
       "      <td>67.118484</td>\n",
       "      <td>287.363983</td>\n",
       "      <td>527.247559</td>\n",
       "    </tr>\n",
       "    <tr>\n",
       "      <th>1000003</th>\n",
       "      <td>1.0</td>\n",
       "      <td>47.746025</td>\n",
       "      <td>-0.783184</td>\n",
       "      <td>2.660325</td>\n",
       "      <td>68.165527</td>\n",
       "      <td>-1.700790</td>\n",
       "      <td>36.945312</td>\n",
       "      <td>-1.151738</td>\n",
       "      <td>-0.626912</td>\n",
       "      <td>0.000000</td>\n",
       "      <td>...</td>\n",
       "      <td>-0.211263</td>\n",
       "      <td>1.326902</td>\n",
       "      <td>0.000000</td>\n",
       "      <td>69.316925</td>\n",
       "      <td>156.334732</td>\n",
       "      <td>95.307602</td>\n",
       "      <td>149.089005</td>\n",
       "      <td>130.389206</td>\n",
       "      <td>237.879318</td>\n",
       "      <td>336.058838</td>\n",
       "    </tr>\n",
       "    <tr>\n",
       "      <th>1000004</th>\n",
       "      <td>0.0</td>\n",
       "      <td>45.950066</td>\n",
       "      <td>1.613817</td>\n",
       "      <td>0.964722</td>\n",
       "      <td>39.302082</td>\n",
       "      <td>-0.075989</td>\n",
       "      <td>15.260404</td>\n",
       "      <td>2.409047</td>\n",
       "      <td>-0.850500</td>\n",
       "      <td>0.000000</td>\n",
       "      <td>...</td>\n",
       "      <td>0.465748</td>\n",
       "      <td>2.287783</td>\n",
       "      <td>2.000016</td>\n",
       "      <td>71.032066</td>\n",
       "      <td>182.341537</td>\n",
       "      <td>81.941925</td>\n",
       "      <td>164.411148</td>\n",
       "      <td>93.709511</td>\n",
       "      <td>237.900055</td>\n",
       "      <td>392.807831</td>\n",
       "    </tr>\n",
       "    <tr>\n",
       "      <th>1000005</th>\n",
       "      <td>0.0</td>\n",
       "      <td>44.409187</td>\n",
       "      <td>-0.228907</td>\n",
       "      <td>-1.837974</td>\n",
       "      <td>49.886654</td>\n",
       "      <td>0.156533</td>\n",
       "      <td>29.664640</td>\n",
       "      <td>-0.031725</td>\n",
       "      <td>-1.192486</td>\n",
       "      <td>0.000000</td>\n",
       "      <td>...</td>\n",
       "      <td>0.293522</td>\n",
       "      <td>1.391425</td>\n",
       "      <td>0.000000</td>\n",
       "      <td>122.030174</td>\n",
       "      <td>288.594086</td>\n",
       "      <td>84.386459</td>\n",
       "      <td>150.299744</td>\n",
       "      <td>69.818291</td>\n",
       "      <td>435.990356</td>\n",
       "      <td>533.977905</td>\n",
       "    </tr>\n",
       "  </tbody>\n",
       "</table>\n",
       "<p>5 rows × 29 columns</p>\n",
       "</div>"
      ],
      "text/plain": [
       "          target  lepton_pt  lepton_eta  lepton_phi     mem_pt   mem_phi  \\\n",
       "event_id                                                                   \n",
       "1000001      1.0  34.750568    0.787025    1.898891  20.862434 -2.622998   \n",
       "1000002      1.0  54.250927   -1.057915    2.310697  51.167873  2.545749   \n",
       "1000003      1.0  47.746025   -0.783184    2.660325  68.165527 -1.700790   \n",
       "1000004      0.0  45.950066    1.613817    0.964722  39.302082 -0.075989   \n",
       "1000005      0.0  44.409187   -0.228907   -1.837974  49.886654  0.156533   \n",
       "\n",
       "            jet1_pt  jet1_eta  jet1_phi  jet1_btag     ...      jet4_eta  \\\n",
       "event_id                                               ...                 \n",
       "1000001   44.814148 -0.168171  2.631595   2.000023     ...      0.877472   \n",
       "1000002   31.039040 -2.220276 -0.737298   0.000000     ...     -1.139118   \n",
       "1000003   36.945312 -1.151738 -0.626912   0.000000     ...     -0.211263   \n",
       "1000004   15.260404  2.409047 -0.850500   0.000000     ...      0.465748   \n",
       "1000005   29.664640 -0.031725 -1.192486   0.000000     ...      0.293522   \n",
       "\n",
       "          jet4_phi  jet4_btag        m_jj       m_jjj       m_lv       m_jlv  \\\n",
       "event_id                                                                       \n",
       "1000001  -0.256736   0.000000   81.724449  189.583145  80.118317  170.086075   \n",
       "1000002  -1.300325   2.000016   65.837746  201.096756  83.321556  208.039688   \n",
       "1000003   1.326902   0.000000   69.316925  156.334732  95.307602  149.089005   \n",
       "1000004   2.287783   2.000016   71.032066  182.341537  81.941925  164.411148   \n",
       "1000005   1.391425   0.000000  122.030174  288.594086  84.386459  150.299744   \n",
       "\n",
       "                m_bb       m_wbb      m_wwbb  \n",
       "event_id                                      \n",
       "1000001    91.128204  298.468781  374.685760  \n",
       "1000002    67.118484  287.363983  527.247559  \n",
       "1000003   130.389206  237.879318  336.058838  \n",
       "1000004    93.709511  237.900055  392.807831  \n",
       "1000005    69.818291  435.990356  533.977905  \n",
       "\n",
       "[5 rows x 29 columns]"
      ]
     },
     "execution_count": 24,
     "metadata": {},
     "output_type": "execute_result"
    }
   ],
   "source": [
    "data = df\n",
    "data.head()"
   ]
  },
  {
   "cell_type": "markdown",
   "metadata": {},
   "source": [
    "### Define training features\n",
    "\n",
    "Exclude `event_id`, `target` from the features set"
   ]
  },
  {
   "cell_type": "code",
   "execution_count": 25,
   "metadata": {
    "collapsed": false
   },
   "outputs": [
    {
     "data": {
      "text/plain": [
       "['jet3_pt',\n",
       " 'jet3_eta',\n",
       " 'm_jjj',\n",
       " 'mem_phi',\n",
       " 'jet1_pt',\n",
       " 'jet4_phi',\n",
       " 'jet1_phi',\n",
       " 'jet2_eta',\n",
       " 'jet3_btag',\n",
       " 'm_jlv',\n",
       " 'm_wbb',\n",
       " 'jet4_pt',\n",
       " 'jet4_btag',\n",
       " 'jet2_pt',\n",
       " 'jet1_btag',\n",
       " 'm_jj',\n",
       " 'm_wwbb',\n",
       " 'jet2_phi',\n",
       " 'lepton_phi',\n",
       " 'm_bb',\n",
       " 'm_lv',\n",
       " 'jet4_eta',\n",
       " 'jet2_btag',\n",
       " 'lepton_pt',\n",
       " 'mem_pt',\n",
       " 'lepton_eta',\n",
       " 'jet3_phi',\n",
       " 'jet1_eta']"
      ]
     },
     "execution_count": 25,
     "metadata": {},
     "output_type": "execute_result"
    }
   ],
   "source": [
    "features = list(set(data.columns) - {'event_id', 'target'})\n",
    "features"
   ]
  },
  {
   "cell_type": "markdown",
   "metadata": {},
   "source": [
    "### Prepare high-level features for training"
   ]
  },
  {
   "cell_type": "code",
   "execution_count": 26,
   "metadata": {
    "collapsed": false
   },
   "outputs": [],
   "source": [
    "high_level_features = ['m_jj', 'm_jjj', 'm_jlv', 'm_wwbb', 'm_bb', 'm_wbb', 'm_lv']"
   ]
  },
  {
   "cell_type": "markdown",
   "metadata": {},
   "source": [
    "### Plot histograms for each high-level feature"
   ]
  },
  {
   "cell_type": "code",
   "execution_count": 27,
   "metadata": {
    "collapsed": false
   },
   "outputs": [
    {
     "data": {
      "image/png": "[encoded data removed]",
      "text/plain": [
       "<matplotlib.figure.Figure at 0x7fc4b400ec50>"
      ]
     },
     "metadata": {},
     "output_type": "display_data"
    }
   ],
   "source": [
    "hist_params = {'normed': True, 'bins': 60, 'alpha': 0.4}\n",
    "# create the figure\n",
    "plt.figure(figsize=(16, 25))\n",
    "for n, feature in enumerate(high_level_features):\n",
    "    # add sub plot on our figure\n",
    "    plt.subplot(len(features) // 5 + 1, 3, n+1)\n",
    "    # define range for histograms by cutting 1% of data from both ends\n",
    "    min_value, max_value = numpy.percentile(data[feature], [1, 99])\n",
    "    plt.hist(data.ix[data.target.values == 0, feature].values, range=(min_value, max_value), \n",
    "             label='class 0', **hist_params)\n",
    "    plt.hist(data.ix[data.target.values == 1, feature].values, range=(min_value, max_value), \n",
    "             label='class 1', **hist_params)\n",
    "    plt.legend(loc='best')\n",
    "    plt.title(feature)"
   ]
  },
  {
   "cell_type": "markdown",
   "metadata": {},
   "source": [
    "### Divide training data into 2 parts \n",
    "`train_test_split` function is used to divide into 2 parts to preserve quality overestimating."
   ]
  },
  {
   "cell_type": "code",
   "execution_count": 28,
   "metadata": {
    "collapsed": false
   },
   "outputs": [],
   "source": [
    "training_data, validation_data = train_test_split(data, random_state=11, train_size=0.66)"
   ]
  },
  {
   "cell_type": "markdown",
   "metadata": {},
   "source": [
    "### Simple knn from `sklearn` training"
   ]
  },
  {
   "cell_type": "code",
   "execution_count": null,
   "metadata": {
    "collapsed": false
   },
   "outputs": [],
   "source": [
    "from sklearn.neighbors import KNeighborsClassifier\n",
    "from sklearn.preprocessing import StandardScaler\n",
    "from sklearn.ensemble import RandomForestClassifier\n",
    "\n",
    "rfc = RandomForestClassifier(n_estimators=2000)\n",
    "rfc.fit(training_data[features], training_data.target)\n",
    "\n",
    "#knn = KNeighborsClassifier(n_neighbors=6)\n",
    "#knn.fit(training_data[features], training_data.target)"
   ]
  },
  {
   "cell_type": "code",
   "execution_count": 20,
   "metadata": {
    "collapsed": false
   },
   "outputs": [],
   "source": [
    "# predict validation sample (probability for each event)\n",
    "#proba_knn = knn.predict_proba(validation_data[features])\n",
    "proba_rfc = rfc.predict_proba(validation_data[features])"
   ]
  },
  {
   "cell_type": "code",
   "execution_count": null,
   "metadata": {
    "collapsed": true
   },
   "outputs": [],
   "source": [
    "df_features = pandas.DataFrame()\n",
    "df_features[0] = rfc.feature_importances_\n",
    "df_features.index = features\n",
    "\n",
    "df_features.plot(kind='barh')"
   ]
  },
  {
   "cell_type": "code",
   "execution_count": 21,
   "metadata": {
    "collapsed": false
   },
   "outputs": [
    {
     "data": {
      "text/plain": [
       "array([[ 0.5       ,  0.5       ],\n",
       "       [ 0.5       ,  0.5       ],\n",
       "       [ 0.83333333,  0.16666667],\n",
       "       ..., \n",
       "       [ 0.16666667,  0.83333333],\n",
       "       [ 0.5       ,  0.5       ],\n",
       "       [ 0.33333333,  0.66666667]])"
      ]
     },
     "execution_count": 21,
     "metadata": {},
     "output_type": "execute_result"
    }
   ],
   "source": [
    "# take probability to be 1 class to compute ROC AUC\n",
    "print(training_data.shape)\n",
    "print(roc_auc_score(validation_data.target, proba_rfc[:, 1]))\n",
    "print(roc_auc_score(validation_data.target, proba_knn[:, 1]))"
   ]
  },
  {
   "cell_type": "markdown",
   "metadata": {},
   "source": [
    "### Compute quality (ROC AUC) on the validation set (to prevent overestimating quality)"
   ]
  },
  {
   "cell_type": "code",
   "execution_count": 22,
   "metadata": {
    "collapsed": false
   },
   "outputs": [
    {
     "data": {
      "text/plain": [
       "0.72604276203090268"
      ]
     },
     "execution_count": 22,
     "metadata": {},
     "output_type": "execute_result"
    }
   ],
   "source": [
    "from matplotlib import offsetbox\n",
    "import numpy as np\n",
    "def plot_embedding(X,y,ax=None,show_images=False,min_dist=1e-2):\n",
    "    x_min, x_max = np.min(X, 0), np.max(X, 0)\n",
    "    X = (X - x_min) / (x_max - x_min)\n",
    "\n",
    "    for i in range(X.shape[0]):\n",
    "        plt.text(X[i, 0], X[i, 1], str(y[i]),\n",
    "                 color=plt.cm.Set1(y[i] / 10.),\n",
    "                 fontdict={'weight': 'bold', 'size': 10})"
   ]
  },
  {
   "cell_type": "code",
   "execution_count": null,
   "metadata": {
    "collapsed": true
   },
   "outputs": [],
   "source": [
    "from sklearn.decomposition import PCA\n",
    "xpca = PCA(n_components=2).fit_transform(training_data[features])\n",
    "#print(training_data.target)\n",
    "print(xpca)\n",
    "plot_embedding(xpca,training_data.target.values)"
   ]
  },
  {
   "cell_type": "code",
   "execution_count": null,
   "metadata": {
    "collapsed": true
   },
   "outputs": [],
   "source": [
    "from sklearn.discriminant_analysis import LinearDiscriminantAnalysis\n",
    "lda = LinearDiscriminantAnalysis(n_components=2)\n",
    "xlda = lda.fit_transform(training_data[features], training_data.target)\n",
    "print(pandas.DataFrame(xlda))\n",
    "#plot_embedding(xlda,training_data.target.values)"
   ]
  },
  {
   "cell_type": "code",
   "execution_count": null,
   "metadata": {
    "collapsed": true
   },
   "outputs": [],
   "source": [
    "from sklearn.manifold import TSNE\n",
    "tsne = TSNE(n_components=2,verbose=2,perplexity=50)\n",
    "xtsne = tsne.fit_transform(training_data[features])\n",
    "plot_embedding(xtsne,training_data.target.values)"
   ]
  },
  {
   "cell_type": "markdown",
   "metadata": {},
   "source": [
    "## Prepare submission to kaggle"
   ]
  },
  {
   "cell_type": "code",
   "execution_count": 17,
   "metadata": {
    "collapsed": false
   },
   "outputs": [],
   "source": [
    "# predict test sample\n",
    "kaggle_proba = knn.predict_proba(test[high_level_features])[:, 1]\n",
    "kaggle_ids = test.event_id"
   ]
  },
  {
   "cell_type": "code",
   "execution_count": 18,
   "metadata": {
    "collapsed": false
   },
   "outputs": [
    {
     "data": {
      "text/html": [
       "<a href='datasets/baseline.csv' target='_blank'>datasets/baseline.csv</a><br>"
      ],
      "text/plain": [
       "/Users/antares/Yandex.Disk.localized/projects/MLHEP/mlhep2016/higgs_kaggle/datasets/baseline.csv"
      ]
     },
     "execution_count": 18,
     "metadata": {},
     "output_type": "execute_result"
    }
   ],
   "source": [
    "from IPython.display import FileLink\n",
    "def create_solution(ids, proba, filename='baseline.csv'):\n",
    "    \"\"\"saves predictions to file and provides a link for downloading \"\"\"\n",
    "    pandas.DataFrame({'event_id': ids, 'prediction': proba}).to_csv('datasets/{}'.format(filename), index=False)\n",
    "    return FileLink('datasets/{}'.format(filename))\n",
    "    \n",
    "create_solution(kaggle_ids, kaggle_proba)"
   ]
  }
 ],
 "metadata": {
  "kernelspec": {
   "display_name": "Python 2",
   "language": "python",
   "name": "python2"
  },
  "language_info": {
   "codemirror_mode": {
    "name": "ipython",
    "version": 2
   },
   "file_extension": ".py",
   "mimetype": "text/x-python",
   "name": "python",
   "nbconvert_exporter": "python",
   "pygments_lexer": "ipython2",
   "version": "2.7.11"
  }
 },
 "nbformat": 4,
 "nbformat_minor": 0
}
